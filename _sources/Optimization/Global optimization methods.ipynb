{
 "cells": [
  {
   "cell_type": "markdown",
   "id": "53f041f1",
   "metadata": {},
   "source": [
    "## Global optimization methods"
   ]
  },
  {
   "cell_type": "markdown",
   "id": "fe1caae4",
   "metadata": {},
   "source": [
    "If the function $f:\\mathbb{R}^n\\rightarrow \\mathbb{R}$ is convex, then the methods described in previous section easily solves the global minimization problem. However, it is often the case that $f$ is nonconvex, so a discussion of global optimization method is needed. <br>\n",
    "\n"
   ]
  },
  {
   "cell_type": "code",
   "execution_count": null,
   "id": "5e906288",
   "metadata": {},
   "outputs": [],
   "source": []
  }
 ],
 "metadata": {
  "kernelspec": {
   "display_name": "Python 3 (ipykernel)",
   "language": "python",
   "name": "python3"
  },
  "language_info": {
   "codemirror_mode": {
    "name": "ipython",
    "version": 3
   },
   "file_extension": ".py",
   "mimetype": "text/x-python",
   "name": "python",
   "nbconvert_exporter": "python",
   "pygments_lexer": "ipython3",
   "version": "3.10.9"
  }
 },
 "nbformat": 4,
 "nbformat_minor": 5
}
