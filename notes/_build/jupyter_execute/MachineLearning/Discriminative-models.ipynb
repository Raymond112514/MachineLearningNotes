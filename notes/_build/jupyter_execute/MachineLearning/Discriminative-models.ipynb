{
 "cells": [
  {
   "cell_type": "markdown",
   "id": "fa6e0b14",
   "metadata": {},
   "source": [
    "## Discriminative models"
   ]
  },
  {
   "cell_type": "markdown",
   "id": "ddd7f877",
   "metadata": {},
   "source": [
    "In discriminative models, we model the posterior distribution $\\mathbb{P}\\{Y=k|X\\}$"
   ]
  },
  {
   "cell_type": "code",
   "execution_count": null,
   "id": "b306eb11",
   "metadata": {},
   "outputs": [],
   "source": []
  }
 ],
 "metadata": {
  "kernelspec": {
   "display_name": "Python 3 (ipykernel)",
   "language": "python",
   "name": "python3"
  },
  "language_info": {
   "codemirror_mode": {
    "name": "ipython",
    "version": 3
   },
   "file_extension": ".py",
   "mimetype": "text/x-python",
   "name": "python",
   "nbconvert_exporter": "python",
   "pygments_lexer": "ipython3",
   "version": "3.10.9"
  }
 },
 "nbformat": 4,
 "nbformat_minor": 5
}