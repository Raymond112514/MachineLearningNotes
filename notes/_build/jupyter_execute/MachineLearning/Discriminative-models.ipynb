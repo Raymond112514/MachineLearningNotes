{
 "cells": [
  {
   "cell_type": "markdown",
   "id": "fa6e0b14",
   "metadata": {},
   "source": [
    "## Discriminative models"
   ]
  },
  {
   "cell_type": "markdown",
   "id": "ddd7f877",
   "metadata": {},
   "source": [
    "In discriminative models, we model the posterior distribution $\\mathbb{P}\\{Y=k|X\\}$. Typically, this is done by parameterizing the posterior, say $f_{\\theta_k}(x)=\\mathbb{P}\\{Y=k|X\\}$. The logistic model we mention later is one such example. To estimate the parameters, we use maximum likelihood estimation. Namely, given data point $\\mathcal{D}=\\{(X_i, y_i)\\}_{i=1}^n$, the likelihood is given by \n",
    "\n",
    "$$\\mathcal{l}(\\mathcal{D}) = \\sum_{i=1}^n \\mathbb{P}\\{Y=y_i|X_i\\}$$"
   ]
  },
  {
   "cell_type": "code",
   "execution_count": null,
   "id": "c9dca59a",
   "metadata": {},
   "outputs": [],
   "source": []
  }
 ],
 "metadata": {
  "kernelspec": {
   "display_name": "Python 3 (ipykernel)",
   "language": "python",
   "name": "python3"
  },
  "language_info": {
   "codemirror_mode": {
    "name": "ipython",
    "version": 3
   },
   "file_extension": ".py",
   "mimetype": "text/x-python",
   "name": "python",
   "nbconvert_exporter": "python",
   "pygments_lexer": "ipython3",
   "version": "3.10.9"
  }
 },
 "nbformat": 4,
 "nbformat_minor": 5
}