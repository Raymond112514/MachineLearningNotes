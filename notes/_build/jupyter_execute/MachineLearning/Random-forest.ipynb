{
 "cells": [
  {
   "cell_type": "markdown",
   "id": "eeadcc3e",
   "metadata": {},
   "source": [
    "# Random forest"
   ]
  },
  {
   "cell_type": "markdown",
   "id": "2c14dec3",
   "metadata": {},
   "source": [
    "One problem with bagging is that the trained models are highly correlated, since the model are trained from resampled data points. Random forest is an improvement over bagging in the sense that when constructing each tree, only $d<p$ features are selected to be trained. This decorrelates the tree. "
   ]
  },
  {
   "cell_type": "code",
   "execution_count": null,
   "id": "7605c896",
   "metadata": {},
   "outputs": [],
   "source": []
  }
 ],
 "metadata": {
  "kernelspec": {
   "display_name": "Python 3 (ipykernel)",
   "language": "python",
   "name": "python3"
  },
  "language_info": {
   "codemirror_mode": {
    "name": "ipython",
    "version": 3
   },
   "file_extension": ".py",
   "mimetype": "text/x-python",
   "name": "python",
   "nbconvert_exporter": "python",
   "pygments_lexer": "ipython3",
   "version": "3.10.9"
  }
 },
 "nbformat": 4,
 "nbformat_minor": 5
}