{
 "cells": [
  {
   "cell_type": "markdown",
   "id": "01965e2f",
   "metadata": {},
   "source": [
    "# Kernel method"
   ]
  },
  {
   "cell_type": "markdown",
   "id": "c5c670d4",
   "metadata": {},
   "source": [
    "So far we have focused on datasets that can be approximately separated using hyperplanes. In practice, most data cannot be seperated in a linear fashion. One way of addressing this issue is to consider nonlinear feature map $x\\mapsto \\phi(x)$. This, however, can be inefficient. Consider the simplest nonlinear map: a quadratic map $\\phi_q$. The quadratic map $\\phi_q$ maps input vectors of length $n$ to a feature vector of length approximately $n^2$. This significantly increases the time complexity of classification algorithms. <br>\n",
    "\n",
    "To resolve this issue, recall that in soft margin svm, we solve the optimization problem\n",
    "\n",
    "$$\\max_{0\\leq \\alpha\\leq C}\\sum_{i=1}^n \\alpha_i - \\frac{1}{2} \\sum_{i=1}^n\\sum_{j=1}^n \\alpha_i\\alpha_jy_iy_jx_i^Tx_j$$\n",
    "\n",
    "Note that in this problem, the only thing involved"
   ]
  },
  {
   "cell_type": "code",
   "execution_count": null,
   "id": "88d46f02",
   "metadata": {},
   "outputs": [],
   "source": []
  },
  {
   "cell_type": "code",
   "execution_count": null,
   "id": "748aee4d",
   "metadata": {},
   "outputs": [],
   "source": []
  }
 ],
 "metadata": {
  "kernelspec": {
   "display_name": "Python 3 (ipykernel)",
   "language": "python",
   "name": "python3"
  },
  "language_info": {
   "codemirror_mode": {
    "name": "ipython",
    "version": 3
   },
   "file_extension": ".py",
   "mimetype": "text/x-python",
   "name": "python",
   "nbconvert_exporter": "python",
   "pygments_lexer": "ipython3",
   "version": "3.10.9"
  }
 },
 "nbformat": 4,
 "nbformat_minor": 5
}