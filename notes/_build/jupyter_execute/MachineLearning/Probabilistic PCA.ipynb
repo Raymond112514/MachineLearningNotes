{
 "cells": [
  {
   "cell_type": "markdown",
   "id": "86bac7cb",
   "metadata": {},
   "source": [
    "# Probabilistic PCA"
   ]
  },
  {
   "cell_type": "markdown",
   "id": "d744aff2",
   "metadata": {},
   "source": [
    "In the last section, we portrayed PCA from an encoder-decoder perspective, and showed that the eigenvectors of the covaraince matrix $\\Sigma$ indeed constructs the optimal solution. One limitation of the above model is the absence of an associated probabilistic model for the observed data. Probabilitstic PCA tends to resolve this issue. "
   ]
  },
  {
   "cell_type": "code",
   "execution_count": null,
   "id": "c96741f7",
   "metadata": {},
   "outputs": [],
   "source": []
  },
  {
   "cell_type": "code",
   "execution_count": null,
   "id": "72f0ddda",
   "metadata": {},
   "outputs": [],
   "source": []
  }
 ],
 "metadata": {
  "kernelspec": {
   "display_name": "Python 3 (ipykernel)",
   "language": "python",
   "name": "python3"
  },
  "language_info": {
   "codemirror_mode": {
    "name": "ipython",
    "version": 3
   },
   "file_extension": ".py",
   "mimetype": "text/x-python",
   "name": "python",
   "nbconvert_exporter": "python",
   "pygments_lexer": "ipython3",
   "version": "3.10.9"
  }
 },
 "nbformat": 4,
 "nbformat_minor": 5
}