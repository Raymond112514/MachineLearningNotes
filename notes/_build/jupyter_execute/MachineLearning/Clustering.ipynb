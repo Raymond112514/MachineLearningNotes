{
 "cells": [
  {
   "cell_type": "markdown",
   "id": "f71b5292",
   "metadata": {},
   "source": [
    "# Clustering"
   ]
  },
  {
   "cell_type": "markdown",
   "id": "d41aeab3",
   "metadata": {},
   "source": [
    "Clustering is an unsupervised learning task. Given data points $\\mathcal{D}=\\{X_i\\}_{i\\in [n]}$, the goal is to cluster the data points into $K$ class (look for homogenous subgroups). Where $K$ is some prespecified number. This can be done in many ways. In this section, we will discuss several most popular clustering algorithms. CLustering in geenral is an NP-hard problem, however, there are efficient heuristics that simplifies the computation. We start with simpler algorithms like k-Means clustering and hierarchical clustering, and then end with more complicated algorithms like DBSCAN. "
   ]
  },
  {
   "cell_type": "code",
   "execution_count": null,
   "id": "fdc48785",
   "metadata": {},
   "outputs": [],
   "source": []
  }
 ],
 "metadata": {
  "kernelspec": {
   "display_name": "Python 3 (ipykernel)",
   "language": "python",
   "name": "python3"
  },
  "language_info": {
   "codemirror_mode": {
    "name": "ipython",
    "version": 3
   },
   "file_extension": ".py",
   "mimetype": "text/x-python",
   "name": "python",
   "nbconvert_exporter": "python",
   "pygments_lexer": "ipython3",
   "version": "3.10.9"
  }
 },
 "nbformat": 4,
 "nbformat_minor": 5
}