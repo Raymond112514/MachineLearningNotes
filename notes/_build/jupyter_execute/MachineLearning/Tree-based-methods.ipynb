{
 "cells": [
  {
   "cell_type": "markdown",
   "id": "15b3156a",
   "metadata": {},
   "source": [
    "# Tree based methods"
   ]
  },
  {
   "cell_type": "markdown",
   "id": "4d8417b3",
   "metadata": {},
   "source": [
    "Notes on tree based methods"
   ]
  },
  {
   "cell_type": "code",
   "execution_count": null,
   "id": "f9b9e948",
   "metadata": {},
   "outputs": [],
   "source": []
  }
 ],
 "metadata": {
  "kernelspec": {
   "display_name": "Python 3 (ipykernel)",
   "language": "python",
   "name": "python3"
  },
  "language_info": {
   "codemirror_mode": {
    "name": "ipython",
    "version": 3
   },
   "file_extension": ".py",
   "mimetype": "text/x-python",
   "name": "python",
   "nbconvert_exporter": "python",
   "pygments_lexer": "ipython3",
   "version": "3.10.9"
  }
 },
 "nbformat": 4,
 "nbformat_minor": 5
}