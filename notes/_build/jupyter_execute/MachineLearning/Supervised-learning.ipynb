{
 "cells": [
  {
   "cell_type": "markdown",
   "id": "ddad6775",
   "metadata": {},
   "source": [
    "# Supervised learning"
   ]
  },
  {
   "cell_type": "markdown",
   "id": "f79b788f",
   "metadata": {},
   "source": [
    "In a supervised learning setup, we are given some observations $\\mathcal{D} = \\{(\\mathbf{x}_i, y_i)\\}_{i \\in [n]} \\in \\mathcal{X} \\times \\mathcal{Y}$ of features $\\mathbf{x}_i$ and responses $y_i$, and the goal is to learn a mapping $f:\\mathcal{X}\\rightarrow \\mathcal{Y}$ that predicts the response value $y\\in \\mathcal{Y}$ given a previously unseen feature instance $\\mathbf{x}\\in \\mathcal{X}$. <br>\n",
    "\n"
   ]
  },
  {
   "cell_type": "code",
   "execution_count": null,
   "id": "914cb6bf",
   "metadata": {},
   "outputs": [],
   "source": []
  }
 ],
 "metadata": {
  "kernelspec": {
   "display_name": "Python 3 (ipykernel)",
   "language": "python",
   "name": "python3"
  },
  "language_info": {
   "codemirror_mode": {
    "name": "ipython",
    "version": 3
   },
   "file_extension": ".py",
   "mimetype": "text/x-python",
   "name": "python",
   "nbconvert_exporter": "python",
   "pygments_lexer": "ipython3",
   "version": "3.10.9"
  }
 },
 "nbformat": 4,
 "nbformat_minor": 5
}