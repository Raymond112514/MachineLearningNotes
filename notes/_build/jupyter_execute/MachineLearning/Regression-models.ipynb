{
 "cells": [
  {
   "cell_type": "markdown",
   "id": "8eedf727",
   "metadata": {},
   "source": [
    "# Regression models"
   ]
  },
  {
   "cell_type": "markdown",
   "id": "e851068e",
   "metadata": {},
   "source": [
    "A regression problem involves predicting a continuous response. In this section, we first introduce parametric models such as linear regression. We then move on to nonparmametric regression methods such as kernel estimates and splines. "
   ]
  }
 ],
 "metadata": {
  "kernelspec": {
   "display_name": "Python 3 (ipykernel)",
   "language": "python",
   "name": "python3"
  },
  "language_info": {
   "codemirror_mode": {
    "name": "ipython",
    "version": 3
   },
   "file_extension": ".py",
   "mimetype": "text/x-python",
   "name": "python",
   "nbconvert_exporter": "python",
   "pygments_lexer": "ipython3",
   "version": "3.10.9"
  }
 },
 "nbformat": 4,
 "nbformat_minor": 5
}