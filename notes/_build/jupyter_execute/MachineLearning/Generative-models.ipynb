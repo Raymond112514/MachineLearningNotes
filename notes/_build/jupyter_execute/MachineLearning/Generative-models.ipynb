{
 "cells": [
  {
   "cell_type": "markdown",
   "id": "261167fc",
   "metadata": {},
   "source": [
    "# Generative models"
   ]
  },
  {
   "cell_type": "markdown",
   "id": "17175f7d",
   "metadata": {},
   "source": [
    "In probabilistic discriminative models like logistic regression, we model the posterior distribution $\\mathbb{P}\\{Y=k|X\\}$ directly. In generative models, however, we instead model the joint distribution \n",
    "\n",
    "$$\\mathbb{P}\\{X, Y\\}=\\mathbb{P}\\{X|Y=k\\}\\mathbb{P}\\{Y=k\\}$$\n",
    "\n",
    "In practice, this is done by modeling the likelihood $\\mathbb{P}\\{X|Y=k\\}$ and the prior $\\mathbb{P}\\{Y=k\\}$ separate. Once these distributions have been modeled, we can recontruct the posterior using Bayes theorem\n",
    "\n",
    "$$\\mathbb{P}\\{Y=k|X\\}=\\frac{\\mathbb{P}\\{X|Y=k\\}\\mathbb{P}\\{Y=k\\}}{\\sum_{k} \\mathbb{P}\\{X|Y=k\\}\\mathbb{P}\\{Y=k\\}}$$\n",
    "\n",
    "During inference, given the features $X$, one can compute the posterior and choose the class $k$ that maximizes the posterior distribution. \n",
    "\n",
    "$$\\hat{k}=\\underset{k}{\\text{argmin}}\\; \\mathbb{P}\\{Y=k|X\\} = \\underset{k}{\\text{argmin}} \\;\\mathbb{P}\\{X|Y=k\\}\\mathbb{P}\\{Y=k\\} \\tag{1}$$\n",
    "\n",
    "Note that since we are only comparing the posterior probability for each class, we can drop the normalizing factor in $(1)$. In this section, we discuss several generative models in machine learning. "
   ]
  },
  {
   "cell_type": "code",
   "execution_count": null,
   "id": "af1a40d5",
   "metadata": {},
   "outputs": [],
   "source": []
  }
 ],
 "metadata": {
  "kernelspec": {
   "display_name": "Python 3 (ipykernel)",
   "language": "python",
   "name": "python3"
  },
  "language_info": {
   "codemirror_mode": {
    "name": "ipython",
    "version": 3
   },
   "file_extension": ".py",
   "mimetype": "text/x-python",
   "name": "python",
   "nbconvert_exporter": "python",
   "pygments_lexer": "ipython3",
   "version": "3.10.9"
  }
 },
 "nbformat": 4,
 "nbformat_minor": 5
}