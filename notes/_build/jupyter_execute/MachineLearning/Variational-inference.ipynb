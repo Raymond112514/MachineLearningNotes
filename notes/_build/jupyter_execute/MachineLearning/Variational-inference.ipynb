{
 "cells": [
  {
   "cell_type": "markdown",
   "id": "1e085b54",
   "metadata": {},
   "source": [
    "# Variational inference"
   ]
  },
  {
   "cell_type": "markdown",
   "id": "5d977cf4",
   "metadata": {},
   "source": [
    "The EM algorithm for Gaussian distribution introduced in the previous chapter can be extended to any latent variable model. In a latent variable model, we known the structure of both $p(z)$ and $p(x|z)$. In the first section, we introduce the generalized EM algorithm. This paves the way for even a larger generalization of such techniques known as variational inference. "
   ]
  },
  {
   "cell_type": "code",
   "execution_count": null,
   "id": "d2945cd7",
   "metadata": {},
   "outputs": [],
   "source": []
  }
 ],
 "metadata": {
  "kernelspec": {
   "display_name": "Python 3 (ipykernel)",
   "language": "python",
   "name": "python3"
  },
  "language_info": {
   "codemirror_mode": {
    "name": "ipython",
    "version": 3
   },
   "file_extension": ".py",
   "mimetype": "text/x-python",
   "name": "python",
   "nbconvert_exporter": "python",
   "pygments_lexer": "ipython3",
   "version": "3.10.9"
  }
 },
 "nbformat": 4,
 "nbformat_minor": 5
}