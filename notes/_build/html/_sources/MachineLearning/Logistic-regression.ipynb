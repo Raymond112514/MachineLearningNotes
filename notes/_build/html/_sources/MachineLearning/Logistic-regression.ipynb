{
 "cells": [
  {
   "cell_type": "markdown",
   "id": "9e6d26b3",
   "metadata": {},
   "source": [
    "# Logistic regression"
   ]
  },
  {
   "cell_type": "markdown",
   "id": "26ce338b",
   "metadata": {},
   "source": [
    "## Binary logistic regression"
   ]
  },
  {
   "cell_type": "markdown",
   "id": "28df8a4b",
   "metadata": {},
   "source": [
    "For the sake of simplicity, assume that we are working with binary classification tasks. In logistic regression, we model the posterior distribution as \n",
    "\n",
    "$$\\mathbb{P}\\{y=k|X\\} = \\sigma(\\beta_k^TX)=\\frac{1}{1+\\exp(-\\beta_k^TX)}$$\n",
    "\n",
    "Where $\\sigma$ denote the sigmoid function\n",
    "\n",
    "$$\\sigma(z)=\\frac{1}{1+\\exp(-z)}$$\n",
    "\n",
    "As shown in Figure 1, the sigmoid function compresses real numbers down to the interval $(0,1)$, which makes it a valid probability measure. The next question is how do we estimate the parameters $\\beta_k$? Let $\\mathcal{D}=\\{(X_i, y_i)\\}_{i\\in [n]}$ be the training dataset, the log-likelihood is given by \n",
    "\n",
    "$$\n",
    "\\begin{align*}\n",
    "    l(\\beta|\\mathcal{D}) &= \\log\\prod_{i=1}^n \\bigg[\\mathbb{P}\\{y=0|X\\}^{\\mathbb{1}\\{y_i=0\\}}\\mathbb{P}\\{y=1|X\\}^{\\mathbb{1}\\{y_i=1\\}}\\bigg]\\\\\n",
    "    &= \\sum_{i=1}^n \\mathbb{1}\\{y_i=0\\}\\log \\mathbb{P}\\{y=0|X\\} + \\mathbb{1}\\{y_i=1\\}\\log \\mathbb{P}\\{y=1|X\\}\\\\\n",
    "    &= \\sum_{i=1}^n y_i\\log \\mathbb{P}\\{y=0|X\\} + (1-y_i)\\log \\mathbb{P}\\{y=1|X\\}\n",
    "\\end{align*}\n",
    "$$\n",
    "\n",
    "In the case of binary classification, we have\n",
    "\n",
    "$$\\mathbb{P}\\{y=0|X\\}=\\frac{1}{1+\\exp(-\\beta_0^TX)}\\hspace{8mm} \\mathbb{P}\\{y=1|X\\} =\\frac{\\exp(-\\beta_0^TX)}{1+\\exp(-\\beta_0^TX)}=\\frac{1}{1+\\exp(\\beta_0^TX)}$$\n",
    "\n",
    "Since probability must sum to one. Substituting these expressions, we have\n",
    "\n",
    "$$\n",
    "\\begin{align*}\n",
    "    l(\\beta|\\mathcal{D}) \n",
    "    &= \\sum_{i=1}^n \\bigg[y_i\\beta_0^TX_i-\\log(1+\\exp(\\beta_0^TX_i))\\bigg]\n",
    "\\end{align*}\n",
    "$$\n",
    "\n",
    "To find the minimizer, consider setting its gradient to $0$\n",
    "\n",
    "$$\n",
    "\\nabla_{\\beta_0} l = \\sum_{i=1}^n \\bigg[y_iX_i - \\frac{\\exp(\\beta_0^TX_i)}{1+\\exp(\\beta_0^TX_i)}X_i\\bigg]=0\n",
    "$$\n",
    "\n",
    "The first order condition, unlike linear regression, does not have a closed form solution. Therefore, to find the minimizer, we need to use algorithms such as gradient descent. "
   ]
  },
  {
   "cell_type": "code",
   "execution_count": 3,
   "id": "e3b3d4b7",
   "metadata": {},
   "outputs": [],
   "source": [
    "import numpy as np\n",
    "import matplotlib.pyplot as plt\n",
    "from matplotlib.colors import ListedColormap"
   ]
  },
  {
   "cell_type": "code",
   "execution_count": 15,
   "id": "4b09a90d",
   "metadata": {},
   "outputs": [],
   "source": [
    "class BinaryLogisticRegression:\n",
    "    \n",
    "    def __init__(self, d):\n",
    "        self.beta = np.random.randn(d, 1)\n",
    "    \n",
    "    def fit(self, X, y, maxIter=500, lr=1e-3):\n",
    "        n_iter = 0\n",
    "        while n_iter < maxIter:\n",
    "            self.grad_step(X, y, lr)\n",
    "            n_iter += 1\n",
    "    \n",
    "    def predict(self, X):\n",
    "        probabilities = self._sigmoid(np.dot(X, self.beta))\n",
    "        return (probabilities >= 0.5).astype(int)\n",
    "    \n",
    "    def grad_step(self, X, y, lr):\n",
    "        predictions = self._sigmoid(np.dot(X, self.beta))\n",
    "        errors = predictions - y[:, np.newaxis]\n",
    "        gradient = np.dot(X.T, errors)\n",
    "        self.beta -= lr * gradient / len(y)\n",
    "    \n",
    "    def _sigmoid(self, z):\n",
    "        # Sigmoid function\n",
    "        return 1 / (1 + np.exp(-z))"
   ]
  },
  {
   "cell_type": "code",
   "execution_count": 16,
   "id": "9fea3e85",
   "metadata": {},
   "outputs": [],
   "source": [
    "lr = BinaryLogisticRegression(2)"
   ]
  },
  {
   "cell_type": "code",
   "execution_count": 24,
   "id": "ec72e896",
   "metadata": {},
   "outputs": [
    {
     "name": "stdout",
     "output_type": "stream",
     "text": [
      "Shape of feature matrix: (100, 2)\n",
      "Shape of response matrix: (100,)\n"
     ]
    }
   ],
   "source": [
    "mean1 = [1, 1]\n",
    "mean2 = [-5, -1]\n",
    "cov = [[0.5, 0], [0, 0.5]]\n",
    "\n",
    "class1 = np.random.multivariate_normal(mean1, cov, 50)\n",
    "class2 = np.random.multivariate_normal(mean2, cov, 50)\n",
    "\n",
    "X = np.concatenate((class1, class2), axis=0)\n",
    "y = np.array([0] * 50 + [1] * 50)\n",
    "\n",
    "print(f\"Shape of feature matrix: {X.shape}\")\n",
    "print(f\"Shape of response matrix: {y.shape}\")"
   ]
  },
  {
   "cell_type": "code",
   "execution_count": 25,
   "id": "4b9318fd",
   "metadata": {},
   "outputs": [],
   "source": [
    "lr.fit(X, y, maxIter=10000)"
   ]
  },
  {
   "cell_type": "code",
   "execution_count": 26,
   "id": "4aae867d",
   "metadata": {},
   "outputs": [],
   "source": [
    "h = 0.05\n",
    "\n",
    "cmap_light = ListedColormap(['#FFAAAA66', '#AAFFAA66', '#AAAAFF66'])\n",
    "cmap_bold = ListedColormap(['#FF0000', '#00FF00', '#0000FF'])\n",
    "\n",
    "x_min, x_max = -7, 3\n",
    "y_min, y_max = -4.5, 7\n",
    "xx, yy = np.meshgrid(np.arange(x_min, x_max, h),\n",
    "                     np.arange(y_min, y_max, h))\n",
    "Z = lr.predict(np.c_[xx.ravel(), yy.ravel()])\n",
    "Z = np.array(Z).reshape(xx.shape)"
   ]
  },
  {
   "cell_type": "code",
   "execution_count": 27,
   "id": "c99bfffc",
   "metadata": {},
   "outputs": [
    {
     "data": {
      "image/png": "[encoded data removed]",
      "text/plain": [
       "<Figure size 600x400 with 1 Axes>"
      ]
     },
     "metadata": {},
     "output_type": "display_data"
    }
   ],
   "source": [
    "plt.figure(figsize=(6, 4))\n",
    "plt.pcolormesh(xx, yy, Z, cmap=cmap_light)\n",
    "\n",
    "plt.scatter(X[:, 0], X[:, 1], c=y, cmap=cmap_bold, s=10)\n",
    "plt.xlim(xx.min(), xx.max())\n",
    "plt.ylim(yy.min(), yy.max())\n",
    "plt.title(\"Decision Boundary for Logistic Regression\")\n",
    "plt.show()"
   ]
  },
  {
   "cell_type": "markdown",
   "id": "7f2332aa",
   "metadata": {},
   "source": [
    "Note that the decision boundary of logistic regression is linear, this can be seen from the fact that\n",
    "\n",
    "$$\\frac{\\mathbb{P}\\{Y=1|X=x\\}}{\\mathbb{P}\\{Y=0|X=x\\}}>1\\Longleftrightarrow 1\\geq \\exp(\\beta^Tx_i)\\Longleftrightarrow \\beta^Tx_i=0$$"
   ]
  },
  {
   "cell_type": "markdown",
   "id": "9be12791",
   "metadata": {},
   "source": [
    "## Multiple class logistic regression"
   ]
  },
  {
   "cell_type": "markdown",
   "id": "54a42048",
   "metadata": {},
   "source": [
    "Now suppose there are $K$ classes. In this case, we model the posterior as\n",
    "\n",
    "$$\\mathbb{P}\\{y=k|X\\} = \\frac{\\exp(-\\beta_k^TX)}{1+\\sum_{i=1}^{K-1}\\exp(-\\beta_i^TX)}\\hspace{5mm}\\text{for}\\;k=1,2,...,K-1$$\n",
    "\n",
    "And to ensure that the probabilities sum up to $1$, let\n",
    "\n",
    "$$\\mathbb{P}\\{y=K|X\\} =\\frac{1}{1+\\exp(-\\beta_k^TX)}$$\n",
    "\n",
    "Like before, the parameters can be estimated using gradient descent."
   ]
  },
  {
   "cell_type": "code",
   "execution_count": null,
   "id": "203b313f",
   "metadata": {},
   "outputs": [],
   "source": []
  }
 ],
 "metadata": {
  "kernelspec": {
   "display_name": "Python 3 (ipykernel)",
   "language": "python",
   "name": "python3"
  },
  "language_info": {
   "codemirror_mode": {
    "name": "ipython",
    "version": 3
   },
   "file_extension": ".py",
   "mimetype": "text/x-python",
   "name": "python",
   "nbconvert_exporter": "python",
   "pygments_lexer": "ipython3",
   "version": "3.10.9"
  }
 },
 "nbformat": 4,
 "nbformat_minor": 5
}
