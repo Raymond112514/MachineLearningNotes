{
 "cells": [
  {
   "cell_type": "markdown",
   "id": "261167fc",
   "metadata": {},
   "source": [
    "# Generative models"
   ]
  },
  {
   "cell_type": "markdown",
   "id": "17175f7d",
   "metadata": {},
   "source": [
    "In discriminative models like linear and logistic regression, we modeled the posterior $\\mathbb{P}\\{Y=k|X\\}$ directly. In generative models, however, we turn to modeling the joint distribution \n",
    "\n",
    "$$\\mathbb{P}\\{X, Y\\}=\\mathbb{P}\\{X|Y=k\\}\\mathbb{P}\\{Y=k\\}$$\n",
    "\n",
    "By modeling the distribution $\\mathbb{P}\\{X|Y=k\\}$ and $\\mathbb{P}\\{Y=k\\}$. Once we've model these, we can recontruct the posterior using Bayes theorem\n",
    "\n",
    "$$\\mathbb{P}\\{Y=k|X\\}=\\frac{\\mathbb{P}\\{X|Y=k\\}\\mathbb{P}\\{Y=k\\}}{\\sum_{k} \\mathbb{P}\\{X|Y=k\\}\\mathbb{P}\\{Y=k\\}}$$"
   ]
  }
 ],
 "metadata": {
  "kernelspec": {
   "display_name": "Python 3 (ipykernel)",
   "language": "python",
   "name": "python3"
  },
  "language_info": {
   "codemirror_mode": {
    "name": "ipython",
    "version": 3
   },
   "file_extension": ".py",
   "mimetype": "text/x-python",
   "name": "python",
   "nbconvert_exporter": "python",
   "pygments_lexer": "ipython3",
   "version": "3.10.9"
  }
 },
 "nbformat": 4,
 "nbformat_minor": 5
}
