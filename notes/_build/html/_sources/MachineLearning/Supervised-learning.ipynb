{
 "cells": [
  {
   "cell_type": "markdown",
   "id": "ddad6775",
   "metadata": {},
   "source": [
    "# Supervised learning"
   ]
  },
  {
   "cell_type": "markdown",
   "id": "f79b788f",
   "metadata": {},
   "source": [
    "In supervised learning, we are given some observations $\\mathcal{D} = \\{(X_i, y_i)\\}_{i \\in [n]} \\in \\mathcal{X} \\times \\mathcal{Y}$ of features/responses (training data), the main goal is to predict a new $y \\in \\mathcal{Y}$ given a previously unseen data $X \\in \\mathcal{X}$ (testing data). In other words, we aim to learn a predictor function $f: \\mathcal{X} \\rightarrow \\mathcal{Y}$ that characterizes the relationship between the features and responses. In this section, we first introduce the empirical risk minimization (ERM) framework used in supervised learning and then move on to a discussion on generalization errors. "
   ]
  }
 ],
 "metadata": {
  "kernelspec": {
   "display_name": "Python 3 (ipykernel)",
   "language": "python",
   "name": "python3"
  },
  "language_info": {
   "codemirror_mode": {
    "name": "ipython",
    "version": 3
   },
   "file_extension": ".py",
   "mimetype": "text/x-python",
   "name": "python",
   "nbconvert_exporter": "python",
   "pygments_lexer": "ipython3",
   "version": "3.10.9"
  }
 },
 "nbformat": 4,
 "nbformat_minor": 5
}
