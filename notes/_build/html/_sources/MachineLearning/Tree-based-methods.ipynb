{
 "cells": [
  {
   "cell_type": "markdown",
   "id": "15b3156a",
   "metadata": {},
   "source": [
    "# Tree based methods"
   ]
  },
  {
   "cell_type": "markdown",
   "id": "4d8417b3",
   "metadata": {},
   "source": [
    "In this chapter, we discuss tree based models, which are a class of nonparametric regression/classification model that acts similar as the partitioning estimate as in chapter 1. It works by partitioning the feature space into a number of simple regions. These regions can be organized concisely into a tree structure. The prediction is then given by the mean or mode of the corresponding region. <br>\n",
    "\n",
    "Tree based models are one of the most interpretable models in supervised learning methods. However, in practice, a single tree usually have lower test accuracy compared to other approaches. In this chapter, we discuss methods of overcoming this problems. "
   ]
  }
 ],
 "metadata": {
  "kernelspec": {
   "display_name": "Python 3 (ipykernel)",
   "language": "python",
   "name": "python3"
  },
  "language_info": {
   "codemirror_mode": {
    "name": "ipython",
    "version": 3
   },
   "file_extension": ".py",
   "mimetype": "text/x-python",
   "name": "python",
   "nbconvert_exporter": "python",
   "pygments_lexer": "ipython3",
   "version": "3.10.9"
  }
 },
 "nbformat": 4,
 "nbformat_minor": 5
}
