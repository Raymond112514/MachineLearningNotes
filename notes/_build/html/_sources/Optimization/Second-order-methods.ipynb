{
 "cells": [
  {
   "cell_type": "markdown",
   "id": "512e1034",
   "metadata": {},
   "source": [
    "## Second order methods"
   ]
  },
  {
   "cell_type": "markdown",
   "id": "2569128e",
   "metadata": {},
   "source": [
    "The gradient descent method introduced in the previous section is an example of first order method. In first order methods, we rely on both $f(x)$ and $f'(x)$. In this section, we will discuss some improvements over gradient descent."
   ]
  },
  {
   "cell_type": "markdown",
   "id": "5edbcd53",
   "metadata": {},
   "source": [
    "### Conjugate gradient method"
   ]
  },
  {
   "cell_type": "code",
   "execution_count": null,
   "id": "104c151c",
   "metadata": {},
   "outputs": [],
   "source": []
  },
  {
   "cell_type": "code",
   "execution_count": null,
   "id": "2b507477",
   "metadata": {},
   "outputs": [],
   "source": []
  },
  {
   "cell_type": "code",
   "execution_count": null,
   "id": "844c1c89",
   "metadata": {},
   "outputs": [],
   "source": []
  },
  {
   "cell_type": "code",
   "execution_count": null,
   "id": "485b26d1",
   "metadata": {},
   "outputs": [],
   "source": []
  },
  {
   "cell_type": "code",
   "execution_count": null,
   "id": "dedebfbd",
   "metadata": {},
   "outputs": [],
   "source": []
  }
 ],
 "metadata": {
  "kernelspec": {
   "display_name": "Python 3 (ipykernel)",
   "language": "python",
   "name": "python3"
  },
  "language_info": {
   "codemirror_mode": {
    "name": "ipython",
    "version": 3
   },
   "file_extension": ".py",
   "mimetype": "text/x-python",
   "name": "python",
   "nbconvert_exporter": "python",
   "pygments_lexer": "ipython3",
   "version": "3.10.9"
  }
 },
 "nbformat": 4,
 "nbformat_minor": 5
}
