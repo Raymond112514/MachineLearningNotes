{
 "cells": [
  {
   "cell_type": "markdown",
   "id": "b32011e3",
   "metadata": {},
   "source": [
    "# Dimensionality reduction"
   ]
  },
  {
   "cell_type": "markdown",
   "id": "89e2be14",
   "metadata": {},
   "source": [
    "Dimensionality reduction is another area in unsupervised learning. The idea is to learn a low dimensional representation of high dimensional data. Formally, given data $\\mathcal{D}=\\{X_i\\}_{i\\in [n]}\\subset \\mathbb{R}^d$, we want to find its corresponding $\\{Z_i\\}_{i\\in [n]}\\subset \\mathbb{R}^k$, where $k<<d$. In this section, we survey some of the dimensionality reduction methods, revolving around principal component analysis. "
   ]
  },
  {
   "cell_type": "code",
   "execution_count": null,
   "id": "0c98ecb3",
   "metadata": {},
   "outputs": [],
   "source": []
  }
 ],
 "metadata": {
  "kernelspec": {
   "display_name": "Python 3 (ipykernel)",
   "language": "python",
   "name": "python3"
  },
  "language_info": {
   "codemirror_mode": {
    "name": "ipython",
    "version": 3
   },
   "file_extension": ".py",
   "mimetype": "text/x-python",
   "name": "python",
   "nbconvert_exporter": "python",
   "pygments_lexer": "ipython3",
   "version": "3.10.9"
  }
 },
 "nbformat": 4,
 "nbformat_minor": 5
}
