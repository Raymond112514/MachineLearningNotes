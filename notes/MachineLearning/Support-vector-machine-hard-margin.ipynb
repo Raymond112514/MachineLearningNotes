{
 "cells": [
  {
   "cell_type": "markdown",
   "id": "530777f1",
   "metadata": {},
   "source": [
    "# Support vector machine (hard margin)"
   ]
  },
  {
   "cell_type": "markdown",
   "id": "4cc6650d",
   "metadata": {},
   "source": [
    "Introduction here (Introduce functional and geometric margin)"
   ]
  },
  {
   "cell_type": "markdown",
   "id": "f2fd7288",
   "metadata": {},
   "source": [
    "## Review of nonlinear optimization"
   ]
  },
  {
   "cell_type": "markdown",
   "id": "6f499d23",
   "metadata": {},
   "source": [
    "https://www.cs.princeton.edu/courses/archive/spring16/cos495/slides/ML_basics_lecture5_SVM_II.pdf"
   ]
  },
  {
   "cell_type": "markdown",
   "id": "eeb90c9f",
   "metadata": {},
   "source": [
    "## Solving the SVM problem"
   ]
  },
  {
   "cell_type": "markdown",
   "id": "acf1669e",
   "metadata": {},
   "source": [
    "The goal is the solve the optimization problem \n",
    "\n",
    "$$\\min_{w,b} \\frac{1}{2}||w||_2^2 \\hspace{5mm} \\text{subject to} \\; y_i(w^Tx_i+b)\\geq 1$$\n",
    "\n",
    "Defining the Lagrangian gives us\n",
    "\n",
    "$$ \\mathcal{L}(w, b, \\lambda) =  \\frac{1}{2}||w||_2^2 + \\sum_{i=1}^n \\lambda_i (1-y_i(w^Tx_i+b))$$\n",
    "\n",
    "The primal problem is given by \n",
    "\n",
    "$$p^*=\\min_{w, b} \\max_{\\lambda\\geq 0} \\mathcal{L}(w, b, \\lambda)$$\n",
    "\n",
    "Since the data is separable, Slater's condition holds and therefore, the optimization problem has zero duality gap. This suggests that we can instead solve the dual problem\n",
    "\n",
    "$$d^*=\\max_{\\lambda\\geq 0}\\min_{w, b} \\mathcal{L}(w, b, \\lambda)$$\n",
    "\n",
    "From the KKT conditions, we know that the optimal solutions $(w, b)$ satisfies\n",
    "\n",
    "1. Stationarity Condition:\n",
    "\n",
    "$$\\begin{equation*}\\begin{cases}\n",
    "\\nabla_{w}\\mathcal{L} = w - \\sum_{i=1}^n \\alpha_i y_ix_i=0\\\\\n",
    "\\nabla_{b}\\mathcal{L}=-\\sum_{i=1}^n \\alpha_i y_i=0\n",
    "\\end{cases}\\end{equation*}$$\n",
    "\n",
    "2. Primal feasibility condition:\n",
    "\n",
    "$$y_i(w^Tx_i+b)\\geq 1\\;i=1,2,...,n$$\n",
    "\n",
    "3. Dual feasibility condition:\n",
    "\n",
    "$$\\alpha_i\\geq 0\\;i=1,2,...,n$$\n",
    "\n",
    "4. Complementarity slackness condition:\n",
    "\n",
    "$$\\alpha_i[y_i(w^Tx_i-1)]=0\\;i=1,2,...,n$$\n",
    "\n",
    "We can solve the inner maximization of the dual problem by plugging the stationary condition into the Lagrangian function, we have\n",
    "\n",
    "$$\n",
    "\\begin{align*}\n",
    "    \\mathcal{L}(w, b, \\alpha) &= \\frac{1}{2} \\bigg(\\sum_{i=1}^n \\alpha_i y_ix_i\\bigg)^T\\bigg(\\sum_{i=1}^n \\alpha_i y_ix_i\\bigg) - \\sum_{i=1}^n \\alpha_i\\bigg[y_i\\bigg(\\bigg(\\sum_{i=1}^n \\alpha_i y_ix_i\\bigg)^Tx_i\\bigg)-1\\bigg]\\\\\n",
    "    &= \\frac{1}{2} \\sum_{i=1}^n\\sum_{j=1}^n \\alpha_i\\alpha_jy_iy_jx_i^Tx_j - \\sum_{i=1}^n\\sum_{j=1}^n \\alpha_i\\alpha_jy_iy_jx_i^Tx_j -b\\sum_{i=1}^n \\alpha_iy_i+\\sum_{i=1}^n \\alpha_i\\\\\n",
    "    &= -b\\sum_{i=1}^n \\alpha_iy_i+\\sum_{i=1}^n \\alpha_i - \\frac{1}{2} \\sum_{i=1}^n\\sum_{j=1}^n \\alpha_i\\alpha_jy_iy_jx_i^Tx_j\n",
    "\\end{align*}\\\\\n",
    "$$\n",
    "\n",
    "Therefore, it remains solving the dual problem \n",
    "\n",
    "$$\\max_{\\alpha\\geq 0}\\sum_{i=1}^n \\alpha_i - \\frac{1}{2} \\sum_{i=1}^n\\sum_{j=1}^n \\alpha_i\\alpha_jy_iy_jx_i^Tx_j$$\n",
    "\n",
    "This can be solved using quadratic programming softwares. "
   ]
  },
  {
   "cell_type": "code",
   "execution_count": 4,
   "id": "608b04fc",
   "metadata": {},
   "outputs": [],
   "source": [
    "import matplotlib.pyplot as plt\n",
    "import numpy as np\n",
    "import cvxopt.solvers"
   ]
  },
  {
   "cell_type": "code",
   "execution_count": 38,
   "id": "72605759",
   "metadata": {},
   "outputs": [],
   "source": [
    "class supportVectorMachine:\n",
    "    \n",
    "    def __init__(self, D):\n",
    "        self.w = np.random.randn(D)\n",
    "        self.b = np.random.randn()\n",
    "        self.alpha = None\n",
    "    \n",
    "    def fit(self, X, y):\n",
    "        N = len(X)\n",
    "        K = np.array([np.dot(X[i], X[j])\n",
    "              for i in range(N)\n",
    "              for j in range(N)]).reshape((N, N)) \n",
    "        P = cvxopt.matrix(np.outer(y, y) * K) \n",
    "        q = cvxopt.matrix(-1 * np.ones(N)) \n",
    "        A = cvxopt.matrix(y, (1, N)) \n",
    "        b = cvxopt.matrix(0.0) \n",
    "        G = cvxopt.matrix(np.diag(-1 * np.ones(N))) \n",
    "        h = cvxopt.matrix(np.zeros(N)) \n",
    "        solution = cvxopt.solvers.qp(P, q, G, h, A, b) \n",
    "        alpha = np.ravel(solution['x']) \n",
    "        self.w = np.array([alpha[i] * y[i] * X[i] for i in range(len(X))]).sum(axis=0)\n",
    "        self.b = np.sum([y[i] - np.dot(w, X[i]) for i in range(len(X))]) / len(X)\n",
    "        self.alpha = alpha\n",
    "    \n",
    "    def predict(self, X):\n",
    "        prod = np.dot(X, self.b) + w\n",
    "        y = np.where(prod > 0, 1, -1)\n",
    "        return y"
   ]
  },
  {
   "cell_type": "code",
   "execution_count": 39,
   "id": "f4e4f7ce",
   "metadata": {},
   "outputs": [],
   "source": [
    "x1 = np.random.multivariate_normal([0.8, 0.8], np.diag([0.15, 0.15]), 30)\n",
    "x2 = np.random.multivariate_normal([-0.8, -0.8], np.diag([0.15, 0.15]), 30)\n",
    "y1 = np.ones(30) \n",
    "y2 = -np.ones(30)\n",
    "X = np.vstack((x1, x2))\n",
    "y = np.concatenate((y1, y2))\n",
    "indices = np.arange(X.shape[0])\n",
    "np.random.shuffle(indices)\n",
    "X = X[indices]\n",
    "y = y[indices]"
   ]
  },
  {
   "cell_type": "code",
   "execution_count": 40,
   "id": "18dcd527",
   "metadata": {},
   "outputs": [
    {
     "name": "stdout",
     "output_type": "stream",
     "text": [
      "     pcost       dcost       gap    pres   dres\n",
      " 0: -6.4619e+00 -1.2066e+01  1e+02  1e+01  2e+00\n",
      " 1: -8.1836e+00 -5.1237e+00  2e+01  1e+00  2e-01\n",
      " 2: -2.7592e+00 -3.3418e+00  9e-01  2e-02  3e-03\n",
      " 3: -3.0991e+00 -3.2052e+00  1e-01  3e-03  4e-04\n",
      " 4: -3.1862e+00 -3.1883e+00  3e-03  3e-05  5e-06\n",
      " 5: -3.1879e+00 -3.1879e+00  3e-05  3e-07  5e-08\n",
      " 6: -3.1879e+00 -3.1879e+00  3e-07  3e-09  5e-10\n",
      "Optimal solution found.\n"
     ]
    }
   ],
   "source": [
    "svm = supportVectorMachine(2)\n",
    "alpha = svm.fit(X, y)"
   ]
  },
  {
   "cell_type": "code",
   "execution_count": 41,
   "id": "bc711539",
   "metadata": {},
   "outputs": [
    {
     "data": {
      "image/png": "[encoded data removed]",
      "text/plain": [
       "<Figure size 640x480 with 1 Axes>"
      ]
     },
     "metadata": {},
     "output_type": "display_data"
    }
   ],
   "source": [
    "plt.scatter(x1[:, 0], x1[:, 1], color='blue')\n",
    "plt.scatter(x2[:, 0], x2[:, 1], color='red')\n",
    "x_line = np.linspace(-2, 2, 100)\n",
    "plt.plot(x_line, svm.b -svm.w[0] * x_line / svm.w[1], color='black', label='y=x')\n",
    "plt.xlabel('X1')\n",
    "plt.ylabel('X2')\n",
    "plt.title('Scatter Plot of hard margin')\n",
    "plt.xlim(-2, 2)\n",
    "plt.ylim(-2, 2)\n",
    "plt.show()"
   ]
  }
 ],
 "metadata": {
  "kernelspec": {
   "display_name": "Python 3 (ipykernel)",
   "language": "python",
   "name": "python3"
  },
  "language_info": {
   "codemirror_mode": {
    "name": "ipython",
    "version": 3
   },
   "file_extension": ".py",
   "mimetype": "text/x-python",
   "name": "python",
   "nbconvert_exporter": "python",
   "pygments_lexer": "ipython3",
   "version": "3.10.9"
  }
 },
 "nbformat": 4,
 "nbformat_minor": 5
}
